{
 "cells": [
  {
   "cell_type": "markdown",
   "id": "26faa7913230bbad",
   "metadata": {},
   "source": [
    "AIM:- Load the “iris” dataset and perform k-nearest neighbour classification. Plot the accuracy/error w.r.t. different K-values.\n",
    "Compare the accuracy with built-in function of KNN."
   ]
  },
  {
   "cell_type": "code",
   "execution_count": 9,
   "id": "9e708f41290f213c",
   "metadata": {
    "collapsed": false,
    "ExecuteTime": {
     "end_time": "2023-10-10T10:44:20.314132700Z",
     "start_time": "2023-10-10T10:44:20.206994200Z"
    }
   },
   "outputs": [],
   "source": [
    "import pandas as pd\n",
    "import numpy as np\n",
    "import operator"
   ]
  },
  {
   "cell_type": "code",
   "execution_count": 10,
   "id": "751de3f80f38f2f",
   "metadata": {
    "collapsed": false,
    "ExecuteTime": {
     "end_time": "2023-10-10T10:44:20.396778400Z",
     "start_time": "2023-10-10T10:44:20.206994200Z"
    }
   },
   "outputs": [
    {
     "name": "stdout",
     "output_type": "stream",
     "text": [
      "First 5 rows of iris dataset are:-\n",
      "    SepalLengthCm  SepalWidthCm  PetalLengthCm  PetalWidthCm      Species\n",
      "0            5.1           3.5            1.4           0.2  Iris-setosa\n",
      "1            4.9           3.0            1.4           0.2  Iris-setosa\n",
      "2            4.7           3.2            1.3           0.2  Iris-setosa\n",
      "3            4.6           3.1            1.5           0.2  Iris-setosa\n",
      "4            5.0           3.6            1.4           0.2  Iris-setosa\n"
     ]
    }
   ],
   "source": [
    "# Collecting iris dataset\n",
    "df = pd.read_csv(\"..//Iris.csv\")\n",
    "# Display the first few rows of the dataset to inspect its structure and content.\n",
    "print(\"First 5 rows of iris dataset are:-\\n\", df.head())"
   ]
  },
  {
   "cell_type": "code",
   "execution_count": 11,
   "id": "fca68f0a1cff77b9",
   "metadata": {
    "collapsed": false,
    "ExecuteTime": {
     "end_time": "2023-10-10T10:44:20.396778400Z",
     "start_time": "2023-10-10T10:44:20.228762800Z"
    }
   },
   "outputs": [
    {
     "name": "stdout",
     "output_type": "stream",
     "text": [
      "No. of rows in the dataset:  150\n",
      "No. of column in the dataset:  5\n"
     ]
    }
   ],
   "source": [
    "# Check the dimensions of the dataset (number of rows and columns).\n",
    "row, col = df.shape\n",
    "print(\"No. of rows in the dataset: \", row)\n",
    "print(\"No. of column in the dataset: \", col)"
   ]
  },
  {
   "cell_type": "code",
   "execution_count": 12,
   "id": "db569a8767337855",
   "metadata": {
    "collapsed": false,
    "ExecuteTime": {
     "end_time": "2023-10-10T10:44:20.396778400Z",
     "start_time": "2023-10-10T10:44:20.235624100Z"
    }
   },
   "outputs": [
    {
     "name": "stdout",
     "output_type": "stream",
     "text": [
      "Data types of each column:\n",
      " SepalLengthCm    float64\n",
      "SepalWidthCm     float64\n",
      "PetalLengthCm    float64\n",
      "PetalWidthCm     float64\n",
      "Species           object\n",
      "dtype: object\n"
     ]
    }
   ],
   "source": [
    "# Identify the data types of each column (numeric, categorical, text, etc.).\n",
    "print(\"Data types of each column:\\n\", df.dtypes)"
   ]
  },
  {
   "cell_type": "code",
   "execution_count": 13,
   "id": "a15057619b777b98",
   "metadata": {
    "collapsed": false,
    "ExecuteTime": {
     "end_time": "2023-10-10T10:44:20.396778400Z",
     "start_time": "2023-10-10T10:44:20.246654Z"
    }
   },
   "outputs": [
    {
     "name": "stdout",
     "output_type": "stream",
     "text": [
      "Missing values per column:-\n",
      "SepalLengthCm    0\n",
      "SepalWidthCm     0\n",
      "PetalLengthCm    0\n",
      "PetalWidthCm     0\n",
      "Species          0\n",
      "dtype: int64\n"
     ]
    }
   ],
   "source": [
    "# Preprocess the data to handle missing values\n",
    "# Display the number of missing values in each column\n",
    "missingValues = df.isnull().sum()\n",
    "print(\"Missing values per column:-\")\n",
    "print(missingValues)"
   ]
  },
  {
   "cell_type": "code",
   "execution_count": 14,
   "id": "86747f9dc1a9c6e7",
   "metadata": {
    "collapsed": false,
    "ExecuteTime": {
     "end_time": "2023-10-10T10:44:20.523859500Z",
     "start_time": "2023-10-10T10:44:20.251254700Z"
    }
   },
   "outputs": [
    {
     "data": {
      "text/plain": "<Figure size 640x480 with 1 Axes>",
      "image/png": "[encoded data removed]"
     },
     "metadata": {},
     "output_type": "display_data"
    }
   ],
   "source": [
    "# Visualize the dataset and existence of outliers with boxplot\n",
    "# importing required libraries\n",
    "import matplotlib.pyplot as plt\n",
    "import seaborn as sns\n",
    "# Defining numerical features\n",
    "numerical_columns = df.select_dtypes(include=['float64']).columns\n",
    "sns.boxplot(data=df[numerical_columns])\n",
    "plt.title(\"Box Plot Of Numerical Features\")\n",
    "plt.grid(True)\n",
    "plt.show()"
   ]
  },
  {
   "cell_type": "code",
   "execution_count": 15,
   "id": "11e149fe3655fd96",
   "metadata": {
    "collapsed": false,
    "ExecuteTime": {
     "end_time": "2023-10-10T10:44:20.523859500Z",
     "start_time": "2023-10-10T10:44:20.454819500Z"
    }
   },
   "outputs": [
    {
     "name": "stdout",
     "output_type": "stream",
     "text": [
      "From Box Plot, We see that the SepalWidthCm column have some outliers but that will not impact as such so,\n",
      "we can conclude that the provided iris dataset contains no outliers. \n"
     ]
    }
   ],
   "source": [
    "print(\"From Box Plot, We see that the SepalWidthCm column have some outliers but that will not impact as such so,\\nwe can conclude that the provided iris dataset contains no outliers. \")"
   ]
  },
  {
   "cell_type": "code",
   "execution_count": 16,
   "id": "fd38aef0084942d0",
   "metadata": {
    "collapsed": false,
    "ExecuteTime": {
     "end_time": "2023-10-10T10:44:20.523859500Z",
     "start_time": "2023-10-10T10:44:20.458863300Z"
    }
   },
   "outputs": [
    {
     "name": "stdout",
     "output_type": "stream",
     "text": [
      "Types of Species:  ['Iris-setosa' 'Iris-versicolor' 'Iris-virginica']\n"
     ]
    }
   ],
   "source": [
    "# Finding Unique categories of species column\n",
    "print(\"Types of Species: \", df['Species'].unique())"
   ]
  },
  {
   "cell_type": "code",
   "execution_count": 17,
   "id": "1fc3c119-45b0-4693-b63c-e464f000190d",
   "metadata": {
    "tags": [],
    "ExecuteTime": {
     "end_time": "2023-10-10T10:44:20.523859500Z",
     "start_time": "2023-10-10T10:44:20.466503500Z"
    }
   },
   "outputs": [],
   "source": [
    "# Mapping Categorical column with float64 values\n",
    "df['Species'] = df['Species'].map({'Iris-setosa': -1.0, 'Iris-versicolor': 0.0, 'Iris-virginica': 1.0})"
   ]
  },
  {
   "cell_type": "code",
   "execution_count": 18,
   "id": "ad166a85057c1386",
   "metadata": {
    "collapsed": false,
    "ExecuteTime": {
     "end_time": "2023-10-10T10:44:20.523859500Z",
     "start_time": "2023-10-10T10:44:20.471531400Z"
    }
   },
   "outputs": [],
   "source": [
    "# Features and target variable selection\n",
    "X = df.drop(columns=['Species'])  # Features\n",
    "Y = df['Species']  # Target Variable"
   ]
  },
  {
   "cell_type": "code",
   "execution_count": 19,
   "id": "f4a692c3614093a7",
   "metadata": {
    "collapsed": false,
    "ExecuteTime": {
     "end_time": "2023-10-10T10:44:20.523859500Z",
     "start_time": "2023-10-10T10:44:20.479871100Z"
    }
   },
   "outputs": [
    {
     "data": {
      "text/plain": "   SepalLengthCm  SepalWidthCm  PetalLengthCm  PetalWidthCm\n0            5.1           3.5            1.4           0.2\n1            4.9           3.0            1.4           0.2\n2            4.7           3.2            1.3           0.2\n3            4.6           3.1            1.5           0.2\n4            5.0           3.6            1.4           0.2",
      "text/html": "<div>\n<style scoped>\n    .dataframe tbody tr th:only-of-type {\n        vertical-align: middle;\n    }\n\n    .dataframe tbody tr th {\n        vertical-align: top;\n    }\n\n    .dataframe thead th {\n        text-align: right;\n    }\n</style>\n<table border=\"1\" class=\"dataframe\">\n  <thead>\n    <tr style=\"text-align: right;\">\n      <th></th>\n      <th>SepalLengthCm</th>\n      <th>SepalWidthCm</th>\n      <th>PetalLengthCm</th>\n      <th>PetalWidthCm</th>\n    </tr>\n  </thead>\n  <tbody>\n    <tr>\n      <th>0</th>\n      <td>5.1</td>\n      <td>3.5</td>\n      <td>1.4</td>\n      <td>0.2</td>\n    </tr>\n    <tr>\n      <th>1</th>\n      <td>4.9</td>\n      <td>3.0</td>\n      <td>1.4</td>\n      <td>0.2</td>\n    </tr>\n    <tr>\n      <th>2</th>\n      <td>4.7</td>\n      <td>3.2</td>\n      <td>1.3</td>\n      <td>0.2</td>\n    </tr>\n    <tr>\n      <th>3</th>\n      <td>4.6</td>\n      <td>3.1</td>\n      <td>1.5</td>\n      <td>0.2</td>\n    </tr>\n    <tr>\n      <th>4</th>\n      <td>5.0</td>\n      <td>3.6</td>\n      <td>1.4</td>\n      <td>0.2</td>\n    </tr>\n  </tbody>\n</table>\n</div>"
     },
     "execution_count": 19,
     "metadata": {},
     "output_type": "execute_result"
    }
   ],
   "source": [
    "X.head()"
   ]
  },
  {
   "cell_type": "code",
   "execution_count": 20,
   "id": "32f38e758cb445e4",
   "metadata": {
    "collapsed": false,
    "ExecuteTime": {
     "end_time": "2023-10-10T10:44:20.528171500Z",
     "start_time": "2023-10-10T10:44:20.492108700Z"
    }
   },
   "outputs": [
    {
     "data": {
      "text/plain": "0   -1.0\n1   -1.0\n2   -1.0\n3   -1.0\n4   -1.0\nName: Species, dtype: float64"
     },
     "execution_count": 20,
     "metadata": {},
     "output_type": "execute_result"
    }
   ],
   "source": [
    "Y.head()"
   ]
  },
  {
   "cell_type": "code",
   "execution_count": 21,
   "id": "6f9676bea081e7c5",
   "metadata": {
    "collapsed": false,
    "ExecuteTime": {
     "end_time": "2023-10-10T10:44:20.823725900Z",
     "start_time": "2023-10-10T10:44:20.502204300Z"
    }
   },
   "outputs": [
    {
     "name": "stdout",
     "output_type": "stream",
     "text": [
      "Training set size: 120 samples \n",
      "Test set size: 30 samples\n"
     ]
    }
   ],
   "source": [
    "from sklearn.model_selection import train_test_split\n",
    "# Split the dataset into training and testing sets(80% training, 20%testing)\n",
    "# Shuffle the data to avoid bias\n",
    "development_set, test_set = train_test_split(df, test_size=0.2, shuffle=True, random_state=0)\n",
    "# Display the size of the training and testing sets\n",
    "print(f'Training set size: {development_set.shape[0]} samples \\nTest set size: {test_set.shape[0]} samples')"
   ]
  },
  {
   "cell_type": "markdown",
   "id": "343023ca64e7eb34",
   "metadata": {},
   "source": [
    "The HyperParameters tuned are:\n",
    "Distance Metrics: Euclidean, Normalized Euclidean and Cosine Similarity"
   ]
  },
  {
   "cell_type": "code",
   "execution_count": 22,
   "id": "503b0bb6db50c623",
   "metadata": {
    "collapsed": false,
    "ExecuteTime": {
     "end_time": "2023-10-10T10:44:20.835038400Z",
     "start_time": "2023-10-10T10:44:20.830383900Z"
    }
   },
   "outputs": [],
   "source": [
    "# Compute the mean and standard deviation for normalized Euclidean distance.\n",
    "mean_development_set = development_set.mean()\n",
    "mean_test_set = test_set.mean()\n",
    "std_development_set = development_set.std()\n",
    "std_test_set = test_set.std()\n",
    "\n",
    "# Retrieve the 'Species' column and store it in separate lists.\n",
    "dev_species = list(development_set.iloc[:,-1])\n",
    "test_species = list(test_set.iloc[:,-1])"
   ]
  },
  {
   "cell_type": "code",
   "execution_count": 23,
   "id": "9a3713acd2ad4805",
   "metadata": {
    "collapsed": false,
    "ExecuteTime": {
     "end_time": "2023-10-10T10:44:20.894182300Z",
     "start_time": "2023-10-10T10:44:20.837378900Z"
    }
   },
   "outputs": [],
   "source": [
    "# Define functions to compute the value of the distance metrics.\n",
    "\n",
    "def euclideanDistance(data_1, data_2, data_len):\n",
    "    dist = 0\n",
    "    for i in range(data_len):\n",
    "        dist = dist + np.square(data_1[i] - data_2[i])\n",
    "    return np.sqrt(dist)\n",
    "\n",
    "def normalizedEuclideanDistance(data_1, data_2, data_len, data_mean, data_std):\n",
    "    n_dist = 0\n",
    "    for i in range(data_len):\n",
    "        n_dist = n_dist + (np.square(((data_1[i] - data_mean[i])/data_std[i]) - ((data_2[i] - data_mean[i])/data_std[i])))\n",
    "    return np.sqrt(n_dist)\n",
    "\n",
    "def cosineSimilarity(data_1, data_2):\n",
    "    dot = np.dot(data_1, data_2[:-1])\n",
    "    norm_data_1 = np.linalg.norm(data_1)\n",
    "    norm_data_2 = np.linalg.norm(data_2[:-1])\n",
    "    cos = dot / (norm_data_1 * norm_data_2)\n",
    "    return 1-cos"
   ]
  },
  {
   "cell_type": "code",
   "execution_count": 24,
   "id": "70e59c589baae9f3",
   "metadata": {
    "collapsed": false,
    "ExecuteTime": {
     "end_time": "2023-10-10T10:44:20.898993700Z",
     "start_time": "2023-10-10T10:44:20.849843400Z"
    }
   },
   "outputs": [],
   "source": [
    "def knn(dataset, testInstance, k, dist_method, dataset_mean, dataset_std):\n",
    "    distances = {}\n",
    "    length = testInstance.shape[1]\n",
    "    if dist_method == 'euclidean':\n",
    "        for x in range(len(dataset)):\n",
    "            dist_up = euclideanDistance(testInstance, dataset.iloc[x], length)\n",
    "            distances[x] = dist_up[0]\n",
    "    elif dist_method == 'normalized_euclidean':\n",
    "        for x in range(len(dataset)):\n",
    "            dist_up = normalizedEuclideanDistance(testInstance, dataset.iloc[x], length, dataset_mean, dataset_std)\n",
    "            distances[x] = dist_up[0]\n",
    "    elif dist_method == 'cosine':\n",
    "        for x in range(len(dataset)):\n",
    "            dist_up = cosineSimilarity(testInstance, dataset.iloc[x])\n",
    "            distances[x] = dist_up[0]\n",
    "    # Sort values based on distance\n",
    "    sort_distances = sorted(distances.items(), key=operator.itemgetter(1))\n",
    "    neighbours = []\n",
    "    # Extracting nearest k neighbors\n",
    "    for x in range(k):\n",
    "        neighbours.append(sort_distances[x][0])\n",
    "    # Initializing counts for 'Species' labels counts as 0\n",
    "    counts = {\"Iris-setosa\" : 0, \"Iris-versicolor\" : 0, \"Iris-virginica\" : 0}\n",
    "    # Computing the most frequent Species class\n",
    "    for x in range(len(neighbours)):\n",
    "        response = dataset.iloc[neighbours[x]][-1]\n",
    "        if response in counts:\n",
    "            counts[response] += 1\n",
    "        else:\n",
    "            counts[response] = 1\n",
    "    # Sorting the Species class in reverse order to get the most frequent class\n",
    "    sort_counts = sorted(counts.items(), key=operator.itemgetter(1), reverse=True)\n",
    "    return sort_counts[0][0]"
   ]
  },
  {
   "cell_type": "code",
   "execution_count": 25,
   "id": "8ebedafe51c5ca29",
   "metadata": {
    "collapsed": false,
    "ExecuteTime": {
     "end_time": "2023-10-10T10:46:31.061118200Z",
     "start_time": "2023-10-10T10:44:20.865247300Z"
    }
   },
   "outputs": [
    {
     "name": "stdout",
     "output_type": "stream",
     "text": [
      "{'euclidean': {1: [1.0, 0.0, -1.0, 1.0, 1.0, 0.0, -1.0, 0.0, 0.0, 0.0, 1.0, -1.0, 1.0, -1.0, -1.0, 0.0, 1.0, 1.0, 1.0, 1.0, 0.0, 1.0, 0.0, 0.0, 1.0, 1.0, 1.0, 1.0, 0.0, 1.0, 0.0, -1.0, 1.0, 0.0, 0.0, 0.0, 0.0, 1.0, -1.0, -1.0, 1.0, 0.0, -1.0, -1.0, 0.0, -1.0, 1.0, 0.0, -1.0, 0.0, 1.0, 0.0, -1.0, 1.0, 1.0, 1.0, 1.0, -1.0, -1.0, 1.0, 1.0, -1.0, 1.0, -1.0, 1.0, 1.0, -1.0, -1.0, 1.0, -1.0, -1.0, -1.0, 0.0, 1.0, 1.0, -1.0, -1.0, -1.0, 0.0, 0.0, -1.0, -1.0, 0.0, -1.0, 1.0, 0.0, 1.0, 0.0, -1.0, 1.0, -1.0, 1.0, -1.0, -1.0, 1.0, -1.0, 1.0, 0.0, 0.0, 0.0, 1.0, 1.0, 0.0, 0.0, -1.0, 0.0, 1.0, 1.0, -1.0, 0.0, 0.0, 0.0, 0.0, -1.0, -1.0, -1.0, 1.0, 0.0, 1.0, -1.0], 3: [1.0, 0.0, -1.0, 1.0, 1.0, 0.0, -1.0, 1.0, 0.0, 0.0, 1.0, -1.0, 1.0, -1.0, -1.0, 0.0, 1.0, 1.0, 0.0, 1.0, 0.0, 1.0, 0.0, 0.0, 1.0, 0.0, 0.0, 1.0, 0.0, 1.0, 0.0, -1.0, 1.0, 0.0, 0.0, 0.0, 0.0, 1.0, -1.0, -1.0, 1.0, 0.0, -1.0, -1.0, 0.0, -1.0, 1.0, 0.0, -1.0, 0.0, 1.0, 0.0, -1.0, 1.0, 1.0, 1.0, 1.0, -1.0, -1.0, 1.0, 1.0, -1.0, 1.0, -1.0, 1.0, 1.0, -1.0, -1.0, 1.0, -1.0, -1.0, -1.0, 0.0, 1.0, 1.0, -1.0, -1.0, -1.0, 0.0, 0.0, -1.0, -1.0, 0.0, -1.0, 1.0, 0.0, 1.0, 0.0, -1.0, 1.0, -1.0, 1.0, -1.0, -1.0, 1.0, -1.0, 1.0, 0.0, 0.0, 0.0, 1.0, 1.0, 1.0, 0.0, -1.0, 0.0, 1.0, 1.0, -1.0, 0.0, 0.0, 1.0, 0.0, -1.0, -1.0, -1.0, 1.0, 0.0, 1.0, -1.0], 5: [1.0, 0.0, -1.0, 1.0, 1.0, 0.0, -1.0, 1.0, 0.0, 0.0, 1.0, -1.0, 1.0, -1.0, -1.0, 0.0, 1.0, 1.0, 0.0, 1.0, 0.0, 1.0, 0.0, 0.0, 1.0, 1.0, 0.0, 1.0, 0.0, 1.0, 0.0, -1.0, 1.0, 0.0, 0.0, 0.0, 0.0, 1.0, -1.0, -1.0, 1.0, 0.0, -1.0, -1.0, 0.0, -1.0, 1.0, 0.0, -1.0, 0.0, 1.0, 0.0, -1.0, 1.0, 1.0, 1.0, 1.0, -1.0, -1.0, 1.0, 1.0, -1.0, 1.0, -1.0, 1.0, 1.0, -1.0, -1.0, 1.0, -1.0, -1.0, -1.0, 0.0, 1.0, 1.0, -1.0, -1.0, -1.0, 0.0, 0.0, -1.0, -1.0, 0.0, -1.0, 1.0, 0.0, 1.0, 0.0, -1.0, 1.0, -1.0, 1.0, -1.0, -1.0, 1.0, -1.0, 1.0, 0.0, 0.0, 0.0, 1.0, 1.0, 1.0, 1.0, -1.0, 0.0, 1.0, 1.0, -1.0, 0.0, 0.0, 1.0, 0.0, -1.0, -1.0, -1.0, 1.0, 0.0, 1.0, -1.0], 7: [1.0, 0.0, -1.0, 1.0, 1.0, 0.0, -1.0, 1.0, 0.0, 0.0, 1.0, -1.0, 1.0, -1.0, -1.0, 0.0, 1.0, 1.0, 1.0, 1.0, 0.0, 1.0, 0.0, 0.0, 1.0, 1.0, 0.0, 1.0, 0.0, 1.0, 0.0, -1.0, 1.0, 0.0, 0.0, 0.0, 0.0, 1.0, -1.0, -1.0, 1.0, 0.0, -1.0, -1.0, 0.0, -1.0, 1.0, 0.0, -1.0, 0.0, 1.0, 0.0, -1.0, 1.0, 1.0, 1.0, 1.0, -1.0, -1.0, 1.0, 1.0, -1.0, 1.0, -1.0, 1.0, 1.0, -1.0, -1.0, 1.0, -1.0, -1.0, -1.0, 0.0, 1.0, 1.0, -1.0, -1.0, -1.0, 0.0, 0.0, -1.0, -1.0, 0.0, -1.0, 1.0, 0.0, 1.0, 0.0, -1.0, 1.0, -1.0, 1.0, -1.0, -1.0, 1.0, -1.0, 1.0, 0.0, 0.0, 0.0, 1.0, 1.0, 1.0, 1.0, -1.0, 0.0, 1.0, 1.0, -1.0, 0.0, 0.0, 0.0, 0.0, -1.0, -1.0, -1.0, 1.0, 0.0, 1.0, -1.0]}, 'normalized_euclidean': {1: [1.0, 0.0, -1.0, 1.0, 1.0, 0.0, -1.0, 0.0, 0.0, 0.0, 1.0, -1.0, 1.0, -1.0, -1.0, 0.0, 1.0, 1.0, 1.0, 1.0, 0.0, 1.0, 0.0, 0.0, 1.0, 1.0, 1.0, 1.0, 0.0, 1.0, 0.0, -1.0, 1.0, 0.0, 0.0, 0.0, 0.0, 1.0, -1.0, -1.0, 1.0, 0.0, -1.0, -1.0, 0.0, -1.0, 1.0, 0.0, -1.0, 0.0, 1.0, 0.0, -1.0, 1.0, 1.0, 1.0, 1.0, -1.0, -1.0, 1.0, 1.0, -1.0, 1.0, -1.0, 1.0, 1.0, -1.0, -1.0, 1.0, -1.0, -1.0, -1.0, 0.0, 1.0, 1.0, -1.0, -1.0, -1.0, 0.0, 0.0, -1.0, -1.0, 0.0, -1.0, 1.0, 0.0, 1.0, 0.0, -1.0, 1.0, -1.0, 1.0, -1.0, -1.0, 1.0, -1.0, 1.0, 0.0, 0.0, 0.0, 1.0, 1.0, 0.0, 0.0, -1.0, 0.0, 1.0, 1.0, -1.0, 0.0, 0.0, 0.0, 0.0, -1.0, -1.0, -1.0, 1.0, 0.0, 1.0, -1.0], 3: [1.0, 0.0, -1.0, 1.0, 1.0, 0.0, -1.0, 1.0, 0.0, 0.0, 1.0, -1.0, 1.0, -1.0, -1.0, 0.0, 1.0, 1.0, 0.0, 1.0, 0.0, 1.0, 0.0, 0.0, 1.0, 1.0, 0.0, 1.0, 0.0, 1.0, 0.0, -1.0, 1.0, 0.0, 0.0, 0.0, 0.0, 1.0, -1.0, -1.0, 1.0, 0.0, -1.0, -1.0, 0.0, -1.0, 1.0, 0.0, -1.0, 0.0, 1.0, 0.0, -1.0, 1.0, 1.0, 1.0, 1.0, -1.0, -1.0, 1.0, 1.0, -1.0, 1.0, -1.0, 1.0, 1.0, -1.0, -1.0, 1.0, -1.0, -1.0, -1.0, 0.0, 1.0, 1.0, -1.0, -1.0, -1.0, 0.0, 0.0, -1.0, -1.0, 0.0, -1.0, 1.0, 0.0, 1.0, 0.0, -1.0, 1.0, -1.0, 1.0, -1.0, -1.0, 1.0, -1.0, 1.0, 0.0, 0.0, 0.0, 1.0, 1.0, 0.0, 0.0, -1.0, 0.0, 1.0, 1.0, -1.0, 0.0, 0.0, 1.0, 0.0, -1.0, -1.0, -1.0, 1.0, 0.0, 1.0, -1.0], 5: [1.0, 0.0, -1.0, 1.0, 1.0, 0.0, -1.0, 1.0, 0.0, 0.0, 1.0, -1.0, 1.0, -1.0, -1.0, 0.0, 1.0, 1.0, 0.0, 1.0, 0.0, 1.0, 0.0, 0.0, 1.0, 1.0, 0.0, 1.0, 0.0, 1.0, 0.0, -1.0, 1.0, 0.0, 0.0, 0.0, 0.0, 1.0, -1.0, -1.0, 1.0, 0.0, -1.0, -1.0, 0.0, -1.0, 1.0, 0.0, -1.0, 0.0, 1.0, 0.0, -1.0, 1.0, 1.0, 1.0, 1.0, -1.0, -1.0, 1.0, 1.0, -1.0, 1.0, -1.0, 1.0, 1.0, -1.0, -1.0, 1.0, -1.0, -1.0, -1.0, 0.0, 1.0, 1.0, -1.0, -1.0, -1.0, 0.0, 0.0, -1.0, -1.0, 0.0, -1.0, 1.0, 0.0, 1.0, 0.0, -1.0, 1.0, -1.0, 1.0, -1.0, -1.0, 1.0, -1.0, 1.0, 0.0, 0.0, 0.0, 1.0, 1.0, 0.0, 1.0, -1.0, 0.0, 1.0, 1.0, -1.0, 0.0, 0.0, 1.0, 0.0, -1.0, -1.0, -1.0, 1.0, 0.0, 1.0, -1.0], 7: [1.0, 0.0, -1.0, 1.0, 1.0, 0.0, -1.0, 1.0, 0.0, 0.0, 1.0, -1.0, 1.0, -1.0, -1.0, 0.0, 1.0, 1.0, 0.0, 1.0, 0.0, 1.0, 0.0, 0.0, 1.0, 1.0, 0.0, 1.0, 0.0, 1.0, 0.0, -1.0, 1.0, 0.0, 0.0, 0.0, 0.0, 1.0, -1.0, -1.0, 1.0, 0.0, -1.0, -1.0, 0.0, -1.0, 1.0, 0.0, -1.0, 0.0, 1.0, 0.0, -1.0, 1.0, 1.0, 1.0, 1.0, -1.0, -1.0, 1.0, 1.0, -1.0, 1.0, -1.0, 1.0, 1.0, -1.0, -1.0, 1.0, -1.0, -1.0, -1.0, 0.0, 1.0, 1.0, -1.0, -1.0, -1.0, 0.0, 0.0, -1.0, -1.0, 0.0, -1.0, 1.0, 0.0, 1.0, 0.0, -1.0, 1.0, -1.0, 1.0, -1.0, -1.0, 1.0, -1.0, 1.0, 0.0, 0.0, 0.0, 1.0, 1.0, 1.0, 0.0, -1.0, 0.0, 1.0, 1.0, -1.0, 0.0, 0.0, 0.0, 0.0, -1.0, -1.0, -1.0, 1.0, 0.0, 1.0, -1.0]}, 'cosine': {1: [1.0, 0.0, -1.0, 1.0, 1.0, 0.0, -1.0, 0.0, 0.0, 0.0, 1.0, -1.0, 1.0, -1.0, -1.0, 0.0, 1.0, 1.0, 1.0, 1.0, 0.0, 1.0, 0.0, 0.0, 1.0, 1.0, 1.0, 1.0, 0.0, 1.0, 0.0, -1.0, 1.0, 0.0, 0.0, 0.0, 0.0, 1.0, -1.0, -1.0, 1.0, 0.0, -1.0, -1.0, 0.0, -1.0, 1.0, 0.0, -1.0, 0.0, 1.0, 0.0, -1.0, 1.0, 1.0, 1.0, 1.0, -1.0, -1.0, 1.0, 1.0, -1.0, 1.0, -1.0, 1.0, 1.0, -1.0, -1.0, 1.0, -1.0, -1.0, -1.0, 0.0, 1.0, 1.0, -1.0, -1.0, -1.0, 0.0, 0.0, -1.0, -1.0, 0.0, -1.0, 1.0, 0.0, 1.0, 0.0, -1.0, 1.0, -1.0, 1.0, -1.0, -1.0, 1.0, -1.0, 1.0, 0.0, 0.0, 0.0, 1.0, 1.0, 0.0, 0.0, -1.0, 0.0, 1.0, 1.0, -1.0, 0.0, 0.0, 0.0, 0.0, -1.0, -1.0, -1.0, 1.0, 0.0, 1.0, -1.0], 3: [1.0, 0.0, -1.0, 1.0, 1.0, 0.0, -1.0, 1.0, 0.0, 0.0, 1.0, -1.0, 1.0, -1.0, -1.0, 0.0, 1.0, 1.0, 1.0, 1.0, 0.0, 1.0, 0.0, 0.0, 1.0, 1.0, 1.0, 1.0, 0.0, 1.0, 0.0, -1.0, 1.0, 0.0, 0.0, 0.0, 0.0, 1.0, -1.0, -1.0, 1.0, 0.0, -1.0, -1.0, 0.0, -1.0, 1.0, 0.0, -1.0, 0.0, 1.0, 0.0, -1.0, 1.0, 1.0, 1.0, 1.0, -1.0, -1.0, 1.0, 1.0, -1.0, 1.0, -1.0, 1.0, 1.0, -1.0, -1.0, 1.0, -1.0, -1.0, -1.0, 0.0, 1.0, 1.0, -1.0, -1.0, -1.0, 0.0, 0.0, -1.0, -1.0, 0.0, -1.0, 1.0, 0.0, 1.0, 0.0, -1.0, 1.0, -1.0, 1.0, -1.0, -1.0, 1.0, -1.0, 1.0, 0.0, 0.0, 0.0, 1.0, 1.0, 1.0, 0.0, -1.0, 0.0, 1.0, 1.0, -1.0, 0.0, 0.0, 0.0, 0.0, -1.0, -1.0, -1.0, 1.0, 0.0, 1.0, -1.0], 5: [1.0, 1.0, -1.0, 1.0, 1.0, 0.0, -1.0, 1.0, 0.0, 0.0, 1.0, -1.0, 1.0, -1.0, -1.0, 0.0, 1.0, 1.0, 1.0, 1.0, 0.0, 1.0, 0.0, 0.0, 1.0, 1.0, 1.0, 1.0, 0.0, 1.0, 0.0, -1.0, 1.0, 0.0, 0.0, 0.0, 0.0, 1.0, -1.0, -1.0, 1.0, 0.0, -1.0, -1.0, 0.0, -1.0, 1.0, 0.0, -1.0, 0.0, 1.0, 0.0, -1.0, 1.0, 1.0, 1.0, 1.0, -1.0, -1.0, 1.0, 1.0, -1.0, 1.0, -1.0, 1.0, 1.0, -1.0, -1.0, 1.0, -1.0, -1.0, -1.0, 0.0, 1.0, 1.0, -1.0, -1.0, -1.0, 0.0, 0.0, -1.0, -1.0, 0.0, -1.0, 1.0, 0.0, 1.0, 0.0, -1.0, 1.0, -1.0, 1.0, -1.0, -1.0, 1.0, -1.0, 1.0, 0.0, 0.0, 0.0, 1.0, 1.0, 1.0, 0.0, -1.0, 0.0, 1.0, 1.0, -1.0, 0.0, 0.0, 1.0, 0.0, -1.0, -1.0, -1.0, 1.0, 0.0, 1.0, -1.0], 7: [1.0, 1.0, -1.0, 1.0, 1.0, 0.0, -1.0, 1.0, 0.0, 0.0, 1.0, -1.0, 1.0, -1.0, -1.0, 0.0, 1.0, 1.0, 1.0, 1.0, 0.0, 1.0, 0.0, 0.0, 1.0, 1.0, 1.0, 1.0, 0.0, 1.0, 0.0, -1.0, 1.0, 0.0, 0.0, 0.0, 0.0, 1.0, -1.0, -1.0, 1.0, 0.0, -1.0, -1.0, 0.0, -1.0, 1.0, 0.0, -1.0, 0.0, 1.0, 0.0, -1.0, 1.0, 1.0, 1.0, 1.0, -1.0, -1.0, 1.0, 1.0, -1.0, 1.0, -1.0, 1.0, 1.0, -1.0, -1.0, 1.0, -1.0, -1.0, -1.0, 0.0, 1.0, 1.0, -1.0, -1.0, -1.0, 0.0, 0.0, -1.0, -1.0, 0.0, -1.0, 1.0, 0.0, 1.0, 0.0, -1.0, 1.0, -1.0, 1.0, -1.0, -1.0, 1.0, -1.0, 1.0, 0.0, 0.0, 0.0, 1.0, 1.0, 1.0, 0.0, -1.0, 0.0, 1.0, 1.0, -1.0, 0.0, 0.0, 1.0, 0.0, -1.0, -1.0, -1.0, 1.0, 0.0, 1.0, -1.0]}}\n"
     ]
    }
   ],
   "source": [
    "# Compute the class for each k value and each distance metric.\n",
    "# Creating a list of list of all columns except 'Species' by iterating through the development set\n",
    "row_list = []\n",
    "for index, rows in development_set.iterrows():\n",
    "    my_list = [rows.SepalLengthCm, rows.SepalWidthCm, rows.PetalLengthCm, rows.PetalWidthCm]\n",
    "    row_list.append([my_list])\n",
    "# k values for the number of neighbours that need to be considered\n",
    "k_n = [1, 3, 5, 7]\n",
    "# Distance metrics\n",
    "distance_methods = ['euclidean', 'normalized_euclidean', 'cosine']\n",
    "# Performing KNN on the development set by iterating all the development set data points and for each distance metric and\n",
    "# number of neighbors (k), predicting the class of the data point based on the most frequent class among its k-nearest neighbors.\n",
    "observed_k = {}\n",
    "for dist_method in distance_methods:\n",
    "    development_set_observed_k = {}\n",
    "    for k in k_n:\n",
    "        development_set_obs = []\n",
    "        for i in range(len(row_list)):\n",
    "            development_set_obs.append(knn(development_set, pd.DataFrame(row_list[i]), k, dist_method, mean_development_set, std_development_set))\n",
    "        development_set_observed_k[k] = development_set_obs\n",
    "    # Nested Dictionary containing the observed class for each value of k (number of neighbors) and each distance metric.\n",
    "    # The structure is as follows:\n",
    "    # observed_k = {dist_metric_1: {k1: [obs_class1, obs_class2, ...], k2: [...], ...},\n",
    "    #          dist_metric_2: {k1: [...], k2: [...], ...},\n",
    "    #          ...}\n",
    "    observed_k[dist_method] = development_set_observed_k\n",
    "print(observed_k)"
   ]
  },
  {
   "cell_type": "code",
   "execution_count": 26,
   "id": "948b6d1b8b6a9121",
   "metadata": {
    "collapsed": false,
    "ExecuteTime": {
     "end_time": "2023-10-10T10:46:31.073961300Z",
     "start_time": "2023-10-10T10:46:31.062155100Z"
    }
   },
   "outputs": [
    {
     "name": "stdout",
     "output_type": "stream",
     "text": [
      "   k  euclidean  normalized_euclidean    cosine\n",
      "0  1   1.000000              1.000000  1.000000\n",
      "1  3   0.950000              0.966667  0.983333\n",
      "2  5   0.950000              0.958333  0.966667\n",
      "3  7   0.966667              0.966667  0.966667\n"
     ]
    }
   ],
   "source": [
    "# Calculating the accuracy of the development set by comparing it with the development set 'Species'\n",
    "accuracy = {}\n",
    "for key in observed_k.keys():\n",
    "    accuracy[key] = {}\n",
    "    for k_value in observed_k[key].keys():\n",
    "        # print('k = ', key)\n",
    "        count = 0\n",
    "        for i,j in zip(dev_species, observed_k[key][k_value]):\n",
    "            if i == j:\n",
    "                count += 1\n",
    "            else:\n",
    "                pass\n",
    "        accuracy[key][k_value] = count/(len(dev_species))\n",
    "        \n",
    "# Storing the accuracy for each k and each distance metric into a dataframe\n",
    "df_result = pd.DataFrame({'k': k_n})\n",
    "for key in accuracy.keys():\n",
    "    value = list(accuracy[key].values())\n",
    "    df_result[key] = value\n",
    "print(df_result)"
   ]
  },
  {
   "cell_type": "code",
   "execution_count": 27,
   "id": "4c67a9114eb5b8d2",
   "metadata": {
    "collapsed": false,
    "ExecuteTime": {
     "end_time": "2023-10-10T10:46:31.282622700Z",
     "start_time": "2023-10-10T10:46:31.075068800Z"
    }
   },
   "outputs": [
    {
     "data": {
      "text/plain": "<Figure size 640x480 with 1 Axes>",
      "image/png": "[encoded data removed]"
     },
     "metadata": {},
     "output_type": "display_data"
    }
   ],
   "source": [
    "# Plotting Bar chart for accuracy\n",
    "draw = df_result.plot(x='k', y=['euclidean', 'normalized_euclidean', 'cosine'], kind='bar', colormap='viridis')\n",
    "draw.set(ylabel= 'Accuracy')\n",
    "plt.title('Accuracy Bar Chart for Different k and Distance Metrics')\n",
    "plt.show()"
   ]
  },
  {
   "cell_type": "code",
   "execution_count": 28,
   "id": "ae016174bf81cb03",
   "metadata": {
    "collapsed": false,
    "ExecuteTime": {
     "end_time": "2023-10-10T10:46:31.295362600Z",
     "start_time": "2023-10-10T10:46:31.282622700Z"
    }
   },
   "outputs": [],
   "source": [
    "# Ignoring k=1 if the value of accuracy for k=1 is 100%,\n",
    "# Since this mostly implies overfitting. Replace it with the value of numpy.nan\n",
    "df_result.loc[df_result['k'] == 1.0, ['euclidean', 'normalized_euclidean', 'cosine']] = np.nan"
   ]
  },
  {
   "cell_type": "code",
   "execution_count": 29,
   "id": "4a2f66e80016c049",
   "metadata": {
    "collapsed": false,
    "ExecuteTime": {
     "end_time": "2023-10-10T10:46:31.308424900Z",
     "start_time": "2023-10-10T10:46:31.302072200Z"
    }
   },
   "outputs": [
    {
     "name": "stdout",
     "output_type": "stream",
     "text": [
      "Best k value is\u001B[1m 3 \u001B[0mand best distance metric is\u001B[1m cosine \n",
      "Ignoring k=1 if the value of accuracy for k=1 is 100%, since this mostly implies overfitting.\n"
     ]
    }
   ],
   "source": [
    "# Find the optimal hyperParameters\n",
    "# In case the accuracy is the same for different k and different distance metric and first occurrence of\n",
    "# the maximum accuracy as the optimal combination. \n",
    "column_val = [c for c in df_result.columns if not c.startswith('k')]\n",
    "col_max = df_result[column_val].max().idxmax(0)\n",
    "best_dist_method = col_max\n",
    "row_max = df_result[col_max].argmax()\n",
    "best_k = int(df_result.iloc[row_max]['k'])\n",
    "if df_result.isnull().values.any():\n",
    "    print(\"Best k value is\\033[1m\", best_k, \"\\033[0mand best distance metric is\\033[1m\", best_dist_method, \n",
    "          \"\\nIgnoring k=1 if the value of accuracy for k=1 is 100%, since this mostly implies overfitting.\")\n",
    "else:\n",
    "    print(\"\\n\\n\\nBest k value is\\033[1m\", best_k, \"\\033[0mand best distance metric is\\033[1m\", best_dist_method,\n",
    "          \"\\nIgnoring k=1 if the value of accuracy for k=1 is 100%, since this mostly implies overfitting.\")"
   ]
  },
  {
   "cell_type": "code",
   "execution_count": 30,
   "id": "c32c38ed64113a31",
   "metadata": {
    "collapsed": false,
    "ExecuteTime": {
     "end_time": "2023-10-10T10:46:31.996281200Z",
     "start_time": "2023-10-10T10:46:31.308424900Z"
    }
   },
   "outputs": [
    {
     "name": "stdout",
     "output_type": "stream",
     "text": [
      "Final Accuracy of the Custom Test Dataset for k=1:  1.0\n",
      "Final Accuracy of the Custom Test Dataset for k=3:  0.9666666666666667\n",
      "Final Accuracy of the Custom Test Dataset for k=5:  0.9333333333333333\n",
      "Final Accuracy of the Custom Test Dataset for k=7:  0.9666666666666667\n"
     ]
    }
   ],
   "source": [
    "# Compute the final accuracy.\n",
    "# Initialize empty lists to store accuracy values\n",
    "custom_accuracies = []\n",
    "# Creating a list of list of all columns except 'Species' by iterating through the test set\n",
    "# Iterate over k values\n",
    "for k in k_n:\n",
    "    row_list_test = []\n",
    "    for index, rows in test_set.iterrows():\n",
    "        my_list = [rows.SepalLengthCm, rows.SepalWidthCm, rows.PetalLengthCm, rows.PetalWidthCm]\n",
    "        row_list_test.append([my_list])\n",
    "    test_set_obs = []\n",
    "    for i in range(len(row_list_test)):\n",
    "        test_set_obs.append(knn(test_set, pd.DataFrame(row_list_test[i]), k, best_dist_method, mean_test_set, std_test_set))\n",
    "    # print(test_set_obs)\n",
    "    count = 0\n",
    "    for i,j in zip(test_species, test_set_obs):\n",
    "        if i == j:\n",
    "            count += 1\n",
    "        else:\n",
    "            pass\n",
    "    custom_accuracy = count/(len(test_species))\n",
    "    custom_accuracies.append(custom_accuracy)\n",
    "    print(f\"Final Accuracy of the Custom Test Dataset for k={k}: \", custom_accuracy)"
   ]
  },
  {
   "cell_type": "code",
   "execution_count": 31,
   "id": "26211c194e6fb019",
   "metadata": {
    "collapsed": false,
    "ExecuteTime": {
     "end_time": "2023-10-10T10:46:32.208700700Z",
     "start_time": "2023-10-10T10:46:31.994966400Z"
    }
   },
   "outputs": [
    {
     "name": "stdout",
     "output_type": "stream",
     "text": [
      "In Built KNN Classifier Accuracy for k=1:  1.0\n",
      "In Built KNN Classifier Accuracy for k=3:  0.9666666666666667\n",
      "In Built KNN Classifier Accuracy for k=5:  1.0\n",
      "In Built KNN Classifier Accuracy for k=7:  0.9666666666666667\n"
     ]
    }
   ],
   "source": [
    "# Importing necessary libraries \n",
    "from sklearn.neighbors import KNeighborsClassifier\n",
    "from sklearn.metrics import accuracy_score\n",
    "sklearn_knn_accuracies = []\n",
    "# Splitting the dataset\n",
    "X_train, X_test, y_train, y_test = train_test_split(X, Y, test_size=0.2, shuffle=True, random_state=0)\n",
    "# Convert pandas DataFrames to NumPy arrays\n",
    "X_train_np = X_train.to_numpy()\n",
    "X_test_np = X_test.to_numpy()\n",
    "# Define the built-in KNN implementation\n",
    "for k in k_n:\n",
    "    sklearn_knn_model = KNeighborsClassifier(n_neighbors=k, metric='cosine')\n",
    "    # Train the built-in KNN model\n",
    "    sklearn_knn_model.fit(X_train_np, y_train)\n",
    "    # Make predictions on the test set\n",
    "    sklearn_knn_predictions = sklearn_knn_model.predict(X_test_np)\n",
    "    # Calculate the accuracy of the model\n",
    "    sklearn_knn_accuracy = accuracy_score(sklearn_knn_predictions, y_test)\n",
    "    sklearn_knn_accuracies.append(sklearn_knn_accuracy)\n",
    "    print(f\"In Built KNN Classifier Accuracy for k={k}: \", sklearn_knn_accuracy)"
   ]
  },
  {
   "cell_type": "code",
   "execution_count": 32,
   "id": "58be61b4980c6613",
   "metadata": {
    "collapsed": false,
    "ExecuteTime": {
     "end_time": "2023-10-10T10:46:32.424853200Z",
     "start_time": "2023-10-10T10:46:32.208700700Z"
    }
   },
   "outputs": [
    {
     "data": {
      "text/plain": "<Figure size 640x480 with 1 Axes>",
      "image/png": "[encoded data removed]"
     },
     "metadata": {},
     "output_type": "display_data"
    }
   ],
   "source": [
    "# Plotting the comparison\n",
    "plt.plot(k_n, custom_accuracies, label='Custom KNN Model', marker='*', markersize=10)\n",
    "plt.plot(k_n, sklearn_knn_accuracies, label='Built-in KNN Model', marker='*', markersize=10)\n",
    "plt.title('Comparison of Accuracy')\n",
    "plt.xlabel('K-values')\n",
    "plt.ylabel('Accuracy')\n",
    "plt.legend()\n",
    "plt.grid(True)\n",
    "plt.show()"
   ]
  },
  {
   "cell_type": "code",
   "execution_count": 33,
   "id": "21415a07ad80bbfa",
   "metadata": {
    "collapsed": false,
    "tags": [],
    "ExecuteTime": {
     "end_time": "2023-10-10T10:46:32.435638800Z",
     "start_time": "2023-10-10T10:46:32.424853200Z"
    }
   },
   "outputs": [
    {
     "name": "stdout",
     "output_type": "stream",
     "text": [
      "Since, the accuracy value of both Custom and Built-in KNN Classifiers is SAME (0.9666666666666667)\n",
      "so, In graph it is superimposed.\n"
     ]
    }
   ],
   "source": [
    "print(\"Since, the accuracy value of both Custom and Built-in KNN Classifiers is SAME (0.9666666666666667)\\nso, In graph it is superimposed.\")"
   ]
  }
 ],
 "metadata": {
  "kernelspec": {
   "display_name": "Python 3 (ipykernel)",
   "language": "python",
   "name": "python3"
  },
  "language_info": {
   "codemirror_mode": {
    "name": "ipython",
    "version": 3
   },
   "file_extension": ".py",
   "mimetype": "text/x-python",
   "name": "python",
   "nbconvert_exporter": "python",
   "pygments_lexer": "ipython3",
   "version": "3.11.5"
  }
 },
 "nbformat": 4,
 "nbformat_minor": 5
}
