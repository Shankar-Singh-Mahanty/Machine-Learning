{
 "cells": [
  {
   "cell_type": "markdown",
   "id": "82b18bce99e1629",
   "metadata": {},
   "source": [
    "AIM :- Loading, Exploring, Preprocessing and Preparing Titanic Dataset"
   ]
  },
  {
   "cell_type": "code",
   "execution_count": 1,
   "id": "21bbc9e6-02a7-43dc-9cb8-88f88d2bd7f4",
   "metadata": {
    "ExecuteTime": {
     "end_time": "2023-09-15T07:14:44.527429800Z",
     "start_time": "2023-09-15T07:14:44.522949100Z"
    },
    "collapsed": false,
    "jupyter": {
     "outputs_hidden": false
    }
   },
   "outputs": [],
   "source": [
    "# importing required libraries\n",
    "import pandas as pd"
   ]
  },
  {
   "cell_type": "code",
   "execution_count": 2,
   "id": "835e292b-fc79-4e3c-9f62-bddb55456c3a",
   "metadata": {
    "ExecuteTime": {
     "end_time": "2023-09-15T07:14:44.578656300Z",
     "start_time": "2023-09-15T07:14:44.527429800Z"
    }
   },
   "outputs": [
    {
     "name": "stdout",
     "output_type": "stream",
     "text": [
      "First 5 rows of the Iris dataset:-\n",
      "    PassengerId  Survived  Pclass  \\\n",
      "0            1         0       3   \n",
      "1            2         1       1   \n",
      "2            3         1       3   \n",
      "3            4         1       1   \n",
      "4            5         0       3   \n",
      "\n",
      "                                                Name     Sex   Age  SibSp  \\\n",
      "0                            Braund, Mr. Owen Harris    male  22.0      1   \n",
      "1  Cumings, Mrs. John Bradley (Florence Briggs Th...  female  38.0      1   \n",
      "2                             Heikkinen, Miss. Laina  female  26.0      0   \n",
      "3       Futrelle, Mrs. Jacques Heath (Lily May Peel)  female  35.0      1   \n",
      "4                           Allen, Mr. William Henry    male  35.0      0   \n",
      "\n",
      "   Parch            Ticket     Fare Cabin Embarked  \n",
      "0      0         A/5 21171   7.2500   NaN        S  \n",
      "1      0          PC 17599  71.2833   C85        C  \n",
      "2      0  STON/O2. 3101282   7.9250   NaN        S  \n",
      "3      0            113803  53.1000  C123        S  \n",
      "4      0            373450   8.0500   NaN        S  \n"
     ]
    }
   ],
   "source": [
    "# Data Collection for experiment\n",
    "df = pd.read_csv(\"D:\\\\5th Sem\\\\LAB\\\\ML\\\\titanic.csv\")\n",
    "# Display the first few rows of the dataset to inspect its structure and content.\n",
    "print(\"First 5 rows of the Iris dataset:-\\n\", df.head())"
   ]
  },
  {
   "cell_type": "code",
   "execution_count": 3,
   "id": "a1e8ffbe-ffdf-4c6d-8dbd-52519720d368",
   "metadata": {
    "ExecuteTime": {
     "end_time": "2023-09-15T07:14:44.593016200Z",
     "start_time": "2023-09-15T07:14:44.581927300Z"
    }
   },
   "outputs": [
    {
     "name": "stdout",
     "output_type": "stream",
     "text": [
      "No. of rows in the dataset:  891\n",
      "No. of column in the dataset:  12\n"
     ]
    }
   ],
   "source": [
    "# Check the dimensions of the dataset (number of rows and columns).\n",
    "row, col = df.shape\n",
    "print(\"No. of rows in the dataset: \", row)\n",
    "print(\"No. of column in the dataset: \", col)"
   ]
  },
  {
   "cell_type": "code",
   "execution_count": 4,
   "id": "011b6b88-a1f6-4059-8407-0a3a53bdad8d",
   "metadata": {
    "ExecuteTime": {
     "end_time": "2023-09-15T07:14:44.597795100Z",
     "start_time": "2023-09-15T07:14:44.588767800Z"
    }
   },
   "outputs": [
    {
     "name": "stdout",
     "output_type": "stream",
     "text": [
      "Data types of each column:\n",
      " PassengerId      int64\n",
      "Survived         int64\n",
      "Pclass           int64\n",
      "Name            object\n",
      "Sex             object\n",
      "Age            float64\n",
      "SibSp            int64\n",
      "Parch            int64\n",
      "Ticket          object\n",
      "Fare           float64\n",
      "Cabin           object\n",
      "Embarked        object\n",
      "dtype: object\n"
     ]
    }
   ],
   "source": [
    "# Identify the data types of each column (numeric, categorical, text, etc.).\n",
    "print(\"Data types of each column:\\n\", df.dtypes)"
   ]
  },
  {
   "cell_type": "code",
   "execution_count": 5,
   "id": "9d3a28d3-50de-4766-aa21-b185d7e01bd4",
   "metadata": {
    "ExecuteTime": {
     "end_time": "2023-09-15T07:14:44.607713Z",
     "start_time": "2023-09-15T07:14:44.598358800Z"
    }
   },
   "outputs": [
    {
     "name": "stdout",
     "output_type": "stream",
     "text": [
      "Missing values per column:-\n",
      "PassengerId      0\n",
      "Survived         0\n",
      "Pclass           0\n",
      "Name             0\n",
      "Sex              0\n",
      "Age            177\n",
      "SibSp            0\n",
      "Parch            0\n",
      "Ticket           0\n",
      "Fare             0\n",
      "Cabin          687\n",
      "Embarked         2\n",
      "dtype: int64\n"
     ]
    }
   ],
   "source": [
    "# Preprocess the data to handle missing values, outliers,\n",
    "# and format it in a way that is suitable for the machine learning algorithms.\n",
    "\n",
    "# Display the number of missing values in each column\n",
    "missingValues = df.isnull().sum()\n",
    "print(\"Missing values per column:-\")\n",
    "print(missingValues)"
   ]
  },
  {
   "cell_type": "code",
   "execution_count": 6,
   "id": "03fde172-4daa-49de-b25b-b46a304009f4",
   "metadata": {
    "ExecuteTime": {
     "end_time": "2023-09-15T07:14:44.709878900Z",
     "start_time": "2023-09-15T07:14:44.611727500Z"
    }
   },
   "outputs": [
    {
     "name": "stdout",
     "output_type": "stream",
     "text": [
      "Missing percentage of columns:\n",
      " Age         19.865320\n",
      "Cabin       77.104377\n",
      "Embarked     0.224467\n",
      "dtype: float64\n"
     ]
    }
   ],
   "source": [
    "# Percentage of missing values\n",
    "missing_percentage = missingValues[missingValues > 0] / len(df) * 100\n",
    "print(\"Missing percentage of columns:\\n\", missing_percentage)"
   ]
  },
  {
   "cell_type": "code",
   "execution_count": 7,
   "id": "4a9928b0-c068-48a7-a6a0-883ebe57ae81",
   "metadata": {
    "ExecuteTime": {
     "end_time": "2023-09-15T07:14:44.916656300Z",
     "start_time": "2023-09-15T07:14:44.616681100Z"
    }
   },
   "outputs": [
    {
     "data": {
      "image/png": "[encoded data removed]",
      "text/plain": [
       "<Figure size 640x480 with 1 Axes>"
      ]
     },
     "metadata": {},
     "output_type": "display_data"
    }
   ],
   "source": [
    "# importing required libraries\n",
    "import matplotlib.pyplot as plt\n",
    "import seaborn as sns\n",
    "# Visualizing the missing values\n",
    "sns.heatmap(df.isnull(), yticklabels=False, cbar=False)\n",
    "plt.title(\"Visualization of Missing Values\")\n",
    "plt.show()"
   ]
  },
  {
   "cell_type": "code",
   "execution_count": 8,
   "id": "523158f1-a76a-44e4-b597-c154e1ab802a",
   "metadata": {
    "ExecuteTime": {
     "end_time": "2023-09-15T07:14:44.933222100Z",
     "start_time": "2023-09-15T07:14:44.921991300Z"
    }
   },
   "outputs": [],
   "source": [
    "# Handling missing values\n",
    "# Numerical Columns with mean\n",
    "numerical_columns = df.select_dtypes(include=['int64', 'float64']).columns\n",
    "df[numerical_columns] = df[numerical_columns].fillna(df[numerical_columns].mean())"
   ]
  },
  {
   "cell_type": "code",
   "execution_count": 9,
   "id": "350a9094-432d-4ee5-a725-522a9ee2e47c",
   "metadata": {
    "ExecuteTime": {
     "end_time": "2023-09-15T07:14:44.944297900Z",
     "start_time": "2023-09-15T07:14:44.937183200Z"
    }
   },
   "outputs": [],
   "source": [
    "# Categorical Columns with unknown\n",
    "categorical_columns = df.select_dtypes(include='object').columns\n",
    "df[categorical_columns] = df[categorical_columns].fillna('Unknown')"
   ]
  },
  {
   "cell_type": "code",
   "execution_count": 10,
   "id": "8611db88-496c-4da3-a76e-fc1903a268c1",
   "metadata": {
    "ExecuteTime": {
     "end_time": "2023-09-15T07:14:45.010718200Z",
     "start_time": "2023-09-15T07:14:44.946803600Z"
    }
   },
   "outputs": [
    {
     "name": "stdout",
     "output_type": "stream",
     "text": [
      "Missing Values After Handling:-\n",
      "PassengerId    0\n",
      "Survived       0\n",
      "Pclass         0\n",
      "Name           0\n",
      "Sex            0\n",
      "Age            0\n",
      "SibSp          0\n",
      "Parch          0\n",
      "Ticket         0\n",
      "Fare           0\n",
      "Cabin          0\n",
      "Embarked       0\n",
      "dtype: int64\n"
     ]
    }
   ],
   "source": [
    "# Missing values left after handling\n",
    "print(\"Missing Values After Handling:-\")\n",
    "print(df.isnull().sum())"
   ]
  },
  {
   "cell_type": "code",
   "execution_count": 11,
   "id": "138f03a6-2da4-4852-a569-9c7e6e45ac1c",
   "metadata": {
    "ExecuteTime": {
     "end_time": "2023-09-15T07:14:45.213693700Z",
     "start_time": "2023-09-15T07:14:44.952951300Z"
    }
   },
   "outputs": [
    {
     "data": {
      "image/png": "[encoded data removed]",
      "text/plain": [
       "<Figure size 640x480 with 1 Axes>"
      ]
     },
     "metadata": {},
     "output_type": "display_data"
    }
   ],
   "source": [
    "# Visualize the outliers with boxplot\n",
    "sns.boxplot(data=df[numerical_columns])\n",
    "plt.title(\"Box Plot Of Numerical Features\")\n",
    "plt.grid(True)\n",
    "plt.show()"
   ]
  },
  {
   "cell_type": "code",
   "execution_count": 12,
   "id": "a73ad28d-96c6-4348-b9fa-90a0018148d5",
   "metadata": {
    "ExecuteTime": {
     "end_time": "2023-09-15T07:14:45.217667200Z",
     "start_time": "2023-09-15T07:14:45.212058Z"
    }
   },
   "outputs": [
    {
     "name": "stdout",
     "output_type": "stream",
     "text": [
      "From Box Plot We See that 'Age' and 'Fare' columns contains plenty outliers.\n"
     ]
    }
   ],
   "source": [
    "print(\"From Box Plot We See that 'Age' and 'Fare' columns contains plenty outliers.\")"
   ]
  },
  {
   "cell_type": "code",
   "execution_count": 13,
   "id": "063de8f1-2d67-4f2a-a3d5-631dc02b0890",
   "metadata": {
    "ExecuteTime": {
     "end_time": "2023-09-15T07:14:45.226273700Z",
     "start_time": "2023-09-15T07:14:45.220158700Z"
    }
   },
   "outputs": [],
   "source": [
    "# Trimming outliers of Fare and Age column\n",
    "# Define a function to remove outliers using the IQR method\n",
    "def remove_outliers_IQR(DataFrame, ColumnName, threshold=1.5):\n",
    "    Q1 = DataFrame[ColumnName].quantile(0.25)\n",
    "    Q3 = DataFrame[ColumnName].quantile(0.75)\n",
    "    IQR = Q3 - Q1\n",
    "    lower_bound = Q1 - (threshold * IQR)\n",
    "    upper_bound = Q3 + (threshold * IQR)\n",
    "    return DataFrame[(DataFrame[ColumnName] >= lower_bound) & (DataFrame[ColumnName] <= upper_bound)]"
   ]
  },
  {
   "cell_type": "code",
   "execution_count": 14,
   "id": "e6be4c03-75ff-4b67-8bbe-6ea218751d3b",
   "metadata": {
    "ExecuteTime": {
     "end_time": "2023-09-15T07:14:45.312903400Z",
     "start_time": "2023-09-15T07:14:45.226273700Z"
    }
   },
   "outputs": [],
   "source": [
    "# Remove outliers from the Fare and Age columns\n",
    "df1 = remove_outliers_IQR(df, \"Fare\")\n",
    "df1 = remove_outliers_IQR(df1, \"Age\")"
   ]
  },
  {
   "cell_type": "code",
   "execution_count": 15,
   "id": "1a3df116-a5e4-411a-b224-535c5437721a",
   "metadata": {
    "ExecuteTime": {
     "end_time": "2023-09-15T07:14:45.535144500Z",
     "start_time": "2023-09-15T07:14:45.234753400Z"
    }
   },
   "outputs": [
    {
     "data": {
      "image/png": "[encoded data removed]",
      "text/plain": [
       "<Figure size 640x480 with 2 Axes>"
      ]
     },
     "metadata": {},
     "output_type": "display_data"
    }
   ],
   "source": [
    "# Visualizing the difference between with and without outliers through boxplot\n",
    "# Create a figure with two subplots\n",
    "fig, (ax1, ax2) = plt.subplots(1, 2)\n",
    "\n",
    "# Plot the data with outliers in the first subplot\n",
    "ax1.boxplot(df[[\"Age\", \"Fare\"]], labels=[\"Age\", \"Fare\"])\n",
    "ax1.set_title(\"With Outliers\")\n",
    "\n",
    "# Plot the data without outliers in the second subplot\n",
    "ax2.boxplot(df1[[\"Age\", \"Fare\"]], labels=[\"Age\", \"Fare\"])\n",
    "ax2.set_title(\"Without Outliers\")\n",
    "\n",
    "# Customize the plot\n",
    "plt.xlabel(\"Visualizing the difference of outliers through Box Plot\",\n",
    "           loc='right', fontweight='bold', fontname='Bookman Old Style', size=14)\n",
    "plt.grid(True)\n",
    "plt.tight_layout()\n",
    "plt.show()"
   ]
  },
  {
   "cell_type": "code",
   "execution_count": 16,
   "id": "23c1837e-1b60-4fd1-9e43-f5888b7dbd7f",
   "metadata": {
    "ExecuteTime": {
     "end_time": "2023-09-15T07:14:45.552820900Z",
     "start_time": "2023-09-15T07:14:45.535144500Z"
    }
   },
   "outputs": [
    {
     "name": "stdout",
     "output_type": "stream",
     "text": [
      "Categorical columns Before Label Encoding:-\n",
      "                                                 Name     Sex  \\\n",
      "0                            Braund, Mr. Owen Harris    male   \n",
      "1  Cumings, Mrs. John Bradley (Florence Briggs Th...  female   \n",
      "2                             Heikkinen, Miss. Laina  female   \n",
      "3       Futrelle, Mrs. Jacques Heath (Lily May Peel)  female   \n",
      "4                           Allen, Mr. William Henry    male   \n",
      "\n",
      "             Ticket    Cabin Embarked  \n",
      "0         A/5 21171  Unknown        S  \n",
      "1          PC 17599      C85        C  \n",
      "2  STON/O2. 3101282  Unknown        S  \n",
      "3            113803     C123        S  \n",
      "4            373450  Unknown        S  \n"
     ]
    }
   ],
   "source": [
    "# Label Encoding\n",
    "data_encoded_label = df.copy()\n",
    "print(\"Categorical columns Before Label Encoding:-\\n\", data_encoded_label[categorical_columns].head())"
   ]
  },
  {
   "cell_type": "code",
   "execution_count": 17,
   "id": "29a7375e-d4a2-45cc-92b7-ebe06283a259",
   "metadata": {
    "ExecuteTime": {
     "end_time": "2023-09-15T07:14:45.892445100Z",
     "start_time": "2023-09-15T07:14:45.547322200Z"
    }
   },
   "outputs": [
    {
     "name": "stdout",
     "output_type": "stream",
     "text": [
      "Categorical columns After Label Encoding:-\n",
      "    Name  Sex  Ticket  Cabin  Embarked\n",
      "0   108    1     523    147         2\n",
      "1   190    0     596     81         0\n",
      "2   353    0     669    147         2\n",
      "3   272    0      49     55         2\n",
      "4    15    1     472    147         2\n"
     ]
    }
   ],
   "source": [
    "# importing required libraries\n",
    "from sklearn.preprocessing import LabelEncoder\n",
    "# Fit the label encoder to the categorical columns\n",
    "label_encoder = LabelEncoder()\n",
    "for column in categorical_columns:\n",
    "    data_encoded_label[column] = label_encoder.fit_transform(data_encoded_label[column])\n",
    "\n",
    "# Displays the first few rows of the encoded data\n",
    "print(\"Categorical columns After Label Encoding:-\\n\", data_encoded_label[categorical_columns].head())"
   ]
  },
  {
   "cell_type": "code",
   "execution_count": 18,
   "id": "243f12b3-2fce-494e-a7b3-54caf5c3be31",
   "metadata": {
    "ExecuteTime": {
     "end_time": "2023-09-15T07:14:46.074832500Z",
     "start_time": "2023-09-15T07:14:45.892445100Z"
    }
   },
   "outputs": [
    {
     "name": "stdout",
     "output_type": "stream",
     "text": [
      "Type of X_train dataset: <class 'pandas.core.frame.DataFrame'>\n",
      "Shape of X_train dataset: (712, 11)\n",
      "Values of X_train dataset:\n",
      "      PassengerId  Survived  Pclass                                Name   Age  \\\n",
      "331          332         0       1                 Partner, Mr. Austen  45.5   \n",
      "733          734         0       2          Berriman, Mr. William John  23.0   \n",
      "382          383         0       3                  Tikkanen, Mr. Juho  32.0   \n",
      "704          705         0       3             Hansen, Mr. Henrik Juul  26.0   \n",
      "813          814         0       3  Andersson, Miss. Ebba Iris Alfrida   6.0   \n",
      "\n",
      "     SibSp  Parch             Ticket     Fare    Cabin Embarked  \n",
      "331      0      0             113043  28.5000     C124        S  \n",
      "733      0      0              28425  13.0000  Unknown        S  \n",
      "382      0      0  STON/O 2. 3101293   7.9250  Unknown        S  \n",
      "704      1      0             350025   7.8542  Unknown        S  \n",
      "813      4      2             347082  31.2750  Unknown        S  \n",
      "\n",
      "\n",
      "Type of X_test dataset: <class 'pandas.core.frame.DataFrame'>\n",
      "Shape of X_test dataset: (179, 11)\n",
      "Values of X_test dataset:\n",
      "      PassengerId  Survived  Pclass  \\\n",
      "709          710         1       3   \n",
      "439          440         0       2   \n",
      "840          841         0       3   \n",
      "720          721         1       2   \n",
      "39            40         1       3   \n",
      "\n",
      "                                                  Name        Age  SibSp  \\\n",
      "709  Moubarek, Master. Halim Gonios (\"William George\")  29.699118      1   \n",
      "439             Kvillner, Mr. Johan Henrik Johannesson  31.000000      0   \n",
      "840                        Alhomaki, Mr. Ilmari Rudolf  20.000000      0   \n",
      "720                  Harper, Miss. Annie Jessie \"Nina\"   6.000000      0   \n",
      "39                         Nicola-Yarred, Miss. Jamila  14.000000      1   \n",
      "\n",
      "     Parch            Ticket     Fare    Cabin Embarked  \n",
      "709      1              2661  15.2458  Unknown        C  \n",
      "439      0        C.A. 18723  10.5000  Unknown        S  \n",
      "840      0  SOTON/O2 3101287   7.9250  Unknown        S  \n",
      "720      1            248727  33.0000  Unknown        S  \n",
      "39       0              2651  11.2417  Unknown        C  \n",
      "\n",
      "\n",
      "Type of Y_train dataset: <class 'pandas.core.series.Series'>\n",
      "Shape of Y_train dataset: (712,)\n",
      "Values of Y_train dataset:\n",
      " 331      male\n",
      "733      male\n",
      "382      male\n",
      "704      male\n",
      "813    female\n",
      "Name: Sex, dtype: object\n",
      "\n",
      "\n",
      "Type of Y_test dataset: <class 'pandas.core.series.Series'>\n",
      "Shape of Y_test dataset: (179,)\n",
      "Values of Y_test dataset:\n",
      " 709      male\n",
      "439      male\n",
      "840      male\n",
      "720    female\n",
      "39     female\n",
      "Name: Sex, dtype: object\n"
     ]
    }
   ],
   "source": [
    "# importing required libraries\n",
    "from sklearn.model_selection import train_test_split\n",
    "# Features and target variable\n",
    "X = df.drop(columns=['Sex'])  # Features\n",
    "Y = df['Sex']  # Target Variable\n",
    "# Split the dataset into training and testing sets(80% training, 20%testing)\n",
    "X_train, X_test, Y_train, Y_test = train_test_split(X, Y, test_size=0.2, random_state=42)\n",
    "\n",
    "# Displaying the type shape and values of holdout datsets\n",
    "print(\"Type of X_train dataset:\", type(X_train))\n",
    "print(\"Shape of X_train dataset:\", X_train.shape)\n",
    "print(\"Values of X_train dataset:\\n\", X_train.head())\n",
    "\n",
    "print(\"\\n\\nType of X_test dataset:\", type(X_test))\n",
    "print(\"Shape of X_test dataset:\", X_test.shape)\n",
    "print(\"Values of X_test dataset:\\n\", X_test.head())\n",
    "\n",
    "print(\"\\n\\nType of Y_train dataset:\", type(Y_train))\n",
    "print(\"Shape of Y_train dataset:\", Y_train.shape)\n",
    "print(\"Values of Y_train dataset:\\n\", Y_train.head())\n",
    "\n",
    "print(\"\\n\\nType of Y_test dataset:\", type(Y_test))\n",
    "print(\"Shape of Y_test dataset:\", Y_test.shape)\n",
    "print(\"Values of Y_test dataset:\\n\", Y_test.head())"
   ]
  }
 ],
 "metadata": {
  "kernelspec": {
   "display_name": "Python 3 (ipykernel)",
   "language": "python",
   "name": "python3"
  },
  "language_info": {
   "codemirror_mode": {
    "name": "ipython",
    "version": 3
   },
   "file_extension": ".py",
   "mimetype": "text/x-python",
   "name": "python",
   "nbconvert_exporter": "python",
   "pygments_lexer": "ipython3",
   "version": "3.11.4"
  }
 },
 "nbformat": 4,
 "nbformat_minor": 5
}
